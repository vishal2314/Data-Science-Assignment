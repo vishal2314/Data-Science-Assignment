{
 "cells": [
  {
   "cell_type": "code",
   "execution_count": 5,
   "id": "b231b5b6-f117-4d69-a0c5-a1fed17c7712",
   "metadata": {},
   "outputs": [
    {
     "name": "stdout",
     "output_type": "stream",
     "text": [
      "Lookalike Model results saved to Lookalike.csv\n"
     ]
    }
   ],
   "source": [
    "import pandas as pd\n",
    "from sklearn.preprocessing import StandardScaler\n",
    "from sklearn.metrics.pairwise import cosine_similarity\n",
    "\n",
    "# Step 1: Load the data\n",
    "customers = pd.read_csv(\"Customers.csv\")\n",
    "products = pd.read_csv(\"Products.csv\")\n",
    "transactions = pd.read_csv(\"Transactions.csv\")\n",
    "\n",
    "# Step 2: Merge the data\n",
    "data = transactions.merge(customers, on=\"CustomerID\", how=\"left\").merge(products, on=\"ProductID\", how=\"left\")\n",
    "\n",
    "# Step 3: Feature Engineering\n",
    "# Aggregate transaction data for each customer\n",
    "customer_features = data.groupby(\"CustomerID\").agg(\n",
    "    total_spent=(\"TotalValue\", \"sum\"),\n",
    "    total_transactions=(\"TransactionID\", \"count\"),\n",
    "    avg_spent_per_transaction=(\"TotalValue\", \"mean\"),\n",
    "    unique_categories=(\"Category\", lambda x: x.nunique())\n",
    ").reset_index()\n",
    "\n",
    "# Add regional data from customers.csv\n",
    "customer_features = customer_features.merge(customers[[\"CustomerID\", \"Region\"]], on=\"CustomerID\", how=\"left\")\n",
    "\n",
    "# Encode categorical features (Region)\n",
    "customer_features = pd.get_dummies(customer_features, columns=[\"Region\"], drop_first=True)\n",
    "\n",
    "# Normalize numerical features\n",
    "scaler = StandardScaler()\n",
    "numerical_cols = [\"total_spent\", \"total_transactions\", \"avg_spent_per_transaction\", \"unique_categories\"]\n",
    "customer_features[numerical_cols] = scaler.fit_transform(customer_features[numerical_cols])\n",
    "\n",
    "# Step 4: Compute Cosine Similarity\n",
    "similarity_matrix = cosine_similarity(customer_features[numerical_cols])\n",
    "\n",
    "# Create a DataFrame for similarity scores\n",
    "similarity_df = pd.DataFrame(similarity_matrix, index=customer_features[\"CustomerID\"], columns=customer_features[\"CustomerID\"])\n",
    "\n",
    "# Step 5: Generate Lookalike Recommendations for the First 20 Customers\n",
    "lookalike_dict = {}\n",
    "for customer_id in customer_features[\"CustomerID\"][:20]:\n",
    "    # Get similarity scores for the current customer\n",
    "    similar_customers = similarity_df[customer_id].sort_values(ascending=False).drop(customer_id).head(3)\n",
    "    lookalike_dict[customer_id] = list(similar_customers.index), list(similar_customers.values)\n",
    "\n",
    "# Step 6: Save Lookalike Results to CSV\n",
    "lookalike_output = []\n",
    "for cust_id, (similar_ids, scores) in lookalike_dict.items():\n",
    "    lookalike_output.append({\n",
    "        \"cust_id\": cust_id,\n",
    "        \"lookalikes\": [(sim_id, round(score, 2)) for sim_id, score in zip(similar_ids, scores)]\n",
    "    })\n",
    "\n",
    "lookalike_df = pd.DataFrame(lookalike_output)\n",
    "lookalike_df.to_csv(\"Lookalike___.csv\", index=False)\n",
    "\n",
    "print(\"Lookalike Model results saved to Lookalike.csv\")\n"
   ]
  },
  {
   "cell_type": "code",
   "execution_count": null,
   "id": "d7ace034-1c46-44ee-bed1-1bc692db7bb1",
   "metadata": {},
   "outputs": [],
   "source": []
  }
 ],
 "metadata": {
  "kernelspec": {
   "display_name": "Python 3 (ipykernel)",
   "language": "python",
   "name": "python3"
  },
  "language_info": {
   "codemirror_mode": {
    "name": "ipython",
    "version": 3
   },
   "file_extension": ".py",
   "mimetype": "text/x-python",
   "name": "python",
   "nbconvert_exporter": "python",
   "pygments_lexer": "ipython3",
   "version": "3.12.0"
  }
 },
 "nbformat": 4,
 "nbformat_minor": 5
}
